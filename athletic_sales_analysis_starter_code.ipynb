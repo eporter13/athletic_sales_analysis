{
 "cells": [
  {
   "cell_type": "code",
   "execution_count": 174,
   "metadata": {},
   "outputs": [],
   "source": [
    "# Import Libraries and Dependencies\n",
    "import pandas as pd"
   ]
  },
  {
   "cell_type": "markdown",
   "metadata": {},
   "source": [
    "### 1. Combine and Clean the Data\n",
    "#### Import CSVs"
   ]
  },
  {
   "cell_type": "code",
   "execution_count": 175,
   "metadata": {},
   "outputs": [],
   "source": [
    "# Read the CSV files into DataFrames.\n",
    "df2020 = pd.read_csv('Resources/athletic_sales_2020.csv')\n",
    "df2021 = pd.read_csv('Resources/athletic_sales_2021.csv')\n"
   ]
  },
  {
   "cell_type": "code",
   "execution_count": 176,
   "metadata": {},
   "outputs": [
    {
     "data": {
      "text/html": [
       "<div>\n",
       "<style scoped>\n",
       "    .dataframe tbody tr th:only-of-type {\n",
       "        vertical-align: middle;\n",
       "    }\n",
       "\n",
       "    .dataframe tbody tr th {\n",
       "        vertical-align: top;\n",
       "    }\n",
       "\n",
       "    .dataframe thead th {\n",
       "        text-align: right;\n",
       "    }\n",
       "</style>\n",
       "<table border=\"1\" class=\"dataframe\">\n",
       "  <thead>\n",
       "    <tr style=\"text-align: right;\">\n",
       "      <th></th>\n",
       "      <th>retailer</th>\n",
       "      <th>retailer_id</th>\n",
       "      <th>invoice_date</th>\n",
       "      <th>region</th>\n",
       "      <th>state</th>\n",
       "      <th>city</th>\n",
       "      <th>product</th>\n",
       "      <th>price_per_unit</th>\n",
       "      <th>units_sold</th>\n",
       "      <th>total_sales</th>\n",
       "      <th>operating_profit</th>\n",
       "      <th>sales_method</th>\n",
       "    </tr>\n",
       "  </thead>\n",
       "  <tbody>\n",
       "    <tr>\n",
       "      <th>0</th>\n",
       "      <td>Foot Locker</td>\n",
       "      <td>1185732</td>\n",
       "      <td>1/1/20</td>\n",
       "      <td>Northeast</td>\n",
       "      <td>New York</td>\n",
       "      <td>New York</td>\n",
       "      <td>Men's Street Footwear</td>\n",
       "      <td>50</td>\n",
       "      <td>1200</td>\n",
       "      <td>600000</td>\n",
       "      <td>300000.00</td>\n",
       "      <td>In-store</td>\n",
       "    </tr>\n",
       "    <tr>\n",
       "      <th>1</th>\n",
       "      <td>Foot Locker</td>\n",
       "      <td>1185732</td>\n",
       "      <td>1/1/20</td>\n",
       "      <td>Northeast</td>\n",
       "      <td>Pennsylvania</td>\n",
       "      <td>Philadelphia</td>\n",
       "      <td>Women's Apparel</td>\n",
       "      <td>68</td>\n",
       "      <td>83</td>\n",
       "      <td>5644</td>\n",
       "      <td>2426.92</td>\n",
       "      <td>Online</td>\n",
       "    </tr>\n",
       "    <tr>\n",
       "      <th>2</th>\n",
       "      <td>Foot Locker</td>\n",
       "      <td>1185732</td>\n",
       "      <td>1/1/20</td>\n",
       "      <td>Northeast</td>\n",
       "      <td>Pennsylvania</td>\n",
       "      <td>Philadelphia</td>\n",
       "      <td>Women's Apparel</td>\n",
       "      <td>75</td>\n",
       "      <td>275</td>\n",
       "      <td>206250</td>\n",
       "      <td>61875.00</td>\n",
       "      <td>Outlet</td>\n",
       "    </tr>\n",
       "    <tr>\n",
       "      <th>3</th>\n",
       "      <td>Foot Locker</td>\n",
       "      <td>1185732</td>\n",
       "      <td>1/1/20</td>\n",
       "      <td>Northeast</td>\n",
       "      <td>New York</td>\n",
       "      <td>New York</td>\n",
       "      <td>Men's Street Footwear</td>\n",
       "      <td>34</td>\n",
       "      <td>384</td>\n",
       "      <td>13056</td>\n",
       "      <td>6789.12</td>\n",
       "      <td>Outlet</td>\n",
       "    </tr>\n",
       "    <tr>\n",
       "      <th>4</th>\n",
       "      <td>Foot Locker</td>\n",
       "      <td>1185732</td>\n",
       "      <td>1/1/20</td>\n",
       "      <td>Northeast</td>\n",
       "      <td>Pennsylvania</td>\n",
       "      <td>Philadelphia</td>\n",
       "      <td>Women's Apparel</td>\n",
       "      <td>53</td>\n",
       "      <td>83</td>\n",
       "      <td>4399</td>\n",
       "      <td>1407.68</td>\n",
       "      <td>Outlet</td>\n",
       "    </tr>\n",
       "  </tbody>\n",
       "</table>\n",
       "</div>"
      ],
      "text/plain": [
       "      retailer  retailer_id invoice_date     region         state  \\\n",
       "0  Foot Locker      1185732       1/1/20  Northeast      New York   \n",
       "1  Foot Locker      1185732       1/1/20  Northeast  Pennsylvania   \n",
       "2  Foot Locker      1185732       1/1/20  Northeast  Pennsylvania   \n",
       "3  Foot Locker      1185732       1/1/20  Northeast      New York   \n",
       "4  Foot Locker      1185732       1/1/20  Northeast  Pennsylvania   \n",
       "\n",
       "           city                product  price_per_unit  units_sold  \\\n",
       "0      New York  Men's Street Footwear              50        1200   \n",
       "1  Philadelphia        Women's Apparel              68          83   \n",
       "2  Philadelphia        Women's Apparel              75         275   \n",
       "3      New York  Men's Street Footwear              34         384   \n",
       "4  Philadelphia        Women's Apparel              53          83   \n",
       "\n",
       "   total_sales  operating_profit sales_method  \n",
       "0       600000         300000.00     In-store  \n",
       "1         5644           2426.92       Online  \n",
       "2       206250          61875.00       Outlet  \n",
       "3        13056           6789.12       Outlet  \n",
       "4         4399           1407.68       Outlet  "
      ]
     },
     "execution_count": 176,
     "metadata": {},
     "output_type": "execute_result"
    }
   ],
   "source": [
    "# Display the 2020 sales DataFrame\n",
    "df2020.head()"
   ]
  },
  {
   "cell_type": "code",
   "execution_count": 177,
   "metadata": {},
   "outputs": [
    {
     "data": {
      "text/html": [
       "<div>\n",
       "<style scoped>\n",
       "    .dataframe tbody tr th:only-of-type {\n",
       "        vertical-align: middle;\n",
       "    }\n",
       "\n",
       "    .dataframe tbody tr th {\n",
       "        vertical-align: top;\n",
       "    }\n",
       "\n",
       "    .dataframe thead th {\n",
       "        text-align: right;\n",
       "    }\n",
       "</style>\n",
       "<table border=\"1\" class=\"dataframe\">\n",
       "  <thead>\n",
       "    <tr style=\"text-align: right;\">\n",
       "      <th></th>\n",
       "      <th>retailer</th>\n",
       "      <th>retailer_id</th>\n",
       "      <th>invoice_date</th>\n",
       "      <th>region</th>\n",
       "      <th>state</th>\n",
       "      <th>city</th>\n",
       "      <th>product</th>\n",
       "      <th>price_per_unit</th>\n",
       "      <th>units_sold</th>\n",
       "      <th>total_sales</th>\n",
       "      <th>operating_profit</th>\n",
       "      <th>sales_method</th>\n",
       "    </tr>\n",
       "  </thead>\n",
       "  <tbody>\n",
       "    <tr>\n",
       "      <th>0</th>\n",
       "      <td>West Gear</td>\n",
       "      <td>1128299</td>\n",
       "      <td>1/1/21</td>\n",
       "      <td>West</td>\n",
       "      <td>California</td>\n",
       "      <td>San Francisco</td>\n",
       "      <td>Men's Athletic Footwear</td>\n",
       "      <td>65</td>\n",
       "      <td>750</td>\n",
       "      <td>487500</td>\n",
       "      <td>121875.00</td>\n",
       "      <td>Outlet</td>\n",
       "    </tr>\n",
       "    <tr>\n",
       "      <th>1</th>\n",
       "      <td>West Gear</td>\n",
       "      <td>1128299</td>\n",
       "      <td>1/1/21</td>\n",
       "      <td>West</td>\n",
       "      <td>California</td>\n",
       "      <td>San Francisco</td>\n",
       "      <td>Men's Athletic Footwear</td>\n",
       "      <td>51</td>\n",
       "      <td>233</td>\n",
       "      <td>11883</td>\n",
       "      <td>3208.41</td>\n",
       "      <td>Outlet</td>\n",
       "    </tr>\n",
       "    <tr>\n",
       "      <th>2</th>\n",
       "      <td>Kohl's</td>\n",
       "      <td>1189833</td>\n",
       "      <td>1/1/21</td>\n",
       "      <td>Midwest</td>\n",
       "      <td>Montana</td>\n",
       "      <td>Billings</td>\n",
       "      <td>Men's Apparel</td>\n",
       "      <td>50</td>\n",
       "      <td>275</td>\n",
       "      <td>137500</td>\n",
       "      <td>82500.00</td>\n",
       "      <td>Outlet</td>\n",
       "    </tr>\n",
       "    <tr>\n",
       "      <th>3</th>\n",
       "      <td>Kohl's</td>\n",
       "      <td>1189833</td>\n",
       "      <td>1/1/21</td>\n",
       "      <td>Midwest</td>\n",
       "      <td>Montana</td>\n",
       "      <td>Billings</td>\n",
       "      <td>Men's Apparel</td>\n",
       "      <td>47</td>\n",
       "      <td>77</td>\n",
       "      <td>3619</td>\n",
       "      <td>2714.25</td>\n",
       "      <td>Online</td>\n",
       "    </tr>\n",
       "    <tr>\n",
       "      <th>4</th>\n",
       "      <td>West Gear</td>\n",
       "      <td>1128299</td>\n",
       "      <td>1/1/21</td>\n",
       "      <td>West</td>\n",
       "      <td>California</td>\n",
       "      <td>San Francisco</td>\n",
       "      <td>Men's Athletic Footwear</td>\n",
       "      <td>64</td>\n",
       "      <td>225</td>\n",
       "      <td>14400</td>\n",
       "      <td>5184.00</td>\n",
       "      <td>Online</td>\n",
       "    </tr>\n",
       "  </tbody>\n",
       "</table>\n",
       "</div>"
      ],
      "text/plain": [
       "    retailer  retailer_id invoice_date   region       state           city  \\\n",
       "0  West Gear      1128299       1/1/21     West  California  San Francisco   \n",
       "1  West Gear      1128299       1/1/21     West  California  San Francisco   \n",
       "2     Kohl's      1189833       1/1/21  Midwest     Montana       Billings   \n",
       "3     Kohl's      1189833       1/1/21  Midwest     Montana       Billings   \n",
       "4  West Gear      1128299       1/1/21     West  California  San Francisco   \n",
       "\n",
       "                   product  price_per_unit  units_sold  total_sales  \\\n",
       "0  Men's Athletic Footwear              65         750       487500   \n",
       "1  Men's Athletic Footwear              51         233        11883   \n",
       "2            Men's Apparel              50         275       137500   \n",
       "3            Men's Apparel              47          77         3619   \n",
       "4  Men's Athletic Footwear              64         225        14400   \n",
       "\n",
       "   operating_profit sales_method  \n",
       "0         121875.00       Outlet  \n",
       "1           3208.41       Outlet  \n",
       "2          82500.00       Outlet  \n",
       "3           2714.25       Online  \n",
       "4           5184.00       Online  "
      ]
     },
     "execution_count": 177,
     "metadata": {},
     "output_type": "execute_result"
    }
   ],
   "source": [
    "# Display the 2021 sales DataFrame\n",
    "df2021.head()"
   ]
  },
  {
   "cell_type": "markdown",
   "metadata": {},
   "source": [
    "#### Check the data types of each DataFrame"
   ]
  },
  {
   "cell_type": "code",
   "execution_count": 178,
   "metadata": {},
   "outputs": [
    {
     "name": "stdout",
     "output_type": "stream",
     "text": [
      "retailer             object\n",
      "retailer_id           int64\n",
      "invoice_date         object\n",
      "region               object\n",
      "state                object\n",
      "city                 object\n",
      "product              object\n",
      "price_per_unit        int64\n",
      "units_sold            int64\n",
      "total_sales           int64\n",
      "operating_profit    float64\n",
      "sales_method         object\n",
      "dtype: object\n"
     ]
    }
   ],
   "source": [
    "# Check the 2020 sales data types.\n",
    "print(df2020.dtypes)"
   ]
  },
  {
   "cell_type": "code",
   "execution_count": 179,
   "metadata": {},
   "outputs": [
    {
     "name": "stdout",
     "output_type": "stream",
     "text": [
      "retailer             object\n",
      "retailer_id           int64\n",
      "invoice_date         object\n",
      "region               object\n",
      "state                object\n",
      "city                 object\n",
      "product              object\n",
      "price_per_unit        int64\n",
      "units_sold            int64\n",
      "total_sales           int64\n",
      "operating_profit    float64\n",
      "sales_method         object\n",
      "dtype: object\n"
     ]
    }
   ],
   "source": [
    "# Check the 2021 sales data types.\n",
    "print(df2021.dtypes)"
   ]
  },
  {
   "cell_type": "markdown",
   "metadata": {},
   "source": [
    "#### Combine the sales data by rows."
   ]
  },
  {
   "cell_type": "code",
   "execution_count": 180,
   "metadata": {},
   "outputs": [],
   "source": [
    "# Combine the 2020 and 2021 sales DataFrames on the rows and reset the index.\n",
    "combined_df = pd.concat([df2021, df2020])\n",
    "combined_df.reset_index(inplace=True)"
   ]
  },
  {
   "cell_type": "code",
   "execution_count": 181,
   "metadata": {},
   "outputs": [
    {
     "name": "stdout",
     "output_type": "stream",
     "text": [
      "Series([], dtype: bool)\n"
     ]
    }
   ],
   "source": [
    "# Check if any values are null.\n",
    "null_values = combined_df.isnull().any()\n",
    "print(null_values[null_values == True])\n",
    "\n"
   ]
  },
  {
   "cell_type": "code",
   "execution_count": 182,
   "metadata": {},
   "outputs": [
    {
     "name": "stdout",
     "output_type": "stream",
     "text": [
      "index                 int64\n",
      "retailer             object\n",
      "retailer_id           int64\n",
      "invoice_date         object\n",
      "region               object\n",
      "state                object\n",
      "city                 object\n",
      "product              object\n",
      "price_per_unit        int64\n",
      "units_sold            int64\n",
      "total_sales           int64\n",
      "operating_profit    float64\n",
      "sales_method         object\n",
      "dtype: object\n"
     ]
    }
   ],
   "source": [
    "# Check the data type of each column\n",
    "print(combined_df.dtypes)\n"
   ]
  },
  {
   "cell_type": "code",
   "execution_count": 183,
   "metadata": {},
   "outputs": [
    {
     "name": "stderr",
     "output_type": "stream",
     "text": [
      "/var/folders/2h/1qvcf8gj47q94pwqgb0fskk00000gn/T/ipykernel_36309/1124417652.py:2: UserWarning: Could not infer format, so each element will be parsed individually, falling back to `dateutil`. To ensure parsing is consistent and as-expected, please specify a format.\n",
      "  combined_df['invoice_date'] = pd.to_datetime(combined_df['invoice_date'])\n"
     ]
    }
   ],
   "source": [
    "# Convert the \"invoice_date\" to a datetime datatype\n",
    "combined_df['invoice_date'] = pd.to_datetime(combined_df['invoice_date'])"
   ]
  },
  {
   "cell_type": "code",
   "execution_count": 184,
   "metadata": {},
   "outputs": [
    {
     "name": "stdout",
     "output_type": "stream",
     "text": [
      "datetime64[ns]\n"
     ]
    }
   ],
   "source": [
    "# Confirm that the \"invoice_date\" data type has been changed.\n",
    "print(combined_df['invoice_date'].dtype)"
   ]
  },
  {
   "cell_type": "markdown",
   "metadata": {},
   "source": [
    "### 2. Determine which Region Sold the Most Products"
   ]
  },
  {
   "cell_type": "markdown",
   "metadata": {},
   "source": [
    "#### Using `groupby`"
   ]
  },
  {
   "cell_type": "code",
   "execution_count": 185,
   "metadata": {},
   "outputs": [
    {
     "name": "stdout",
     "output_type": "stream",
     "text": [
      "                                      units_sold\n",
      "region    state         city                    \n",
      "Midwest   Illinois      Chicago            25407\n",
      "          Indiana       Indianapolis       26332\n",
      "          Iowa          Des Moines         23446\n",
      "          Kansas        Wichita            29463\n",
      "          Michigan      Detroit            50095\n",
      "          Minnesota     Minneapolis        20415\n",
      "          Missouri      St. Louis          36404\n",
      "          Montana       Billings           42713\n",
      "          Nebraska      Omaha              19154\n",
      "          North Dakota  Fargo              22781\n",
      "          Ohio          Columbus           47781\n",
      "          South Dakota  Sioux Falls        22973\n",
      "          Wisconsin     Milwaukee          23950\n",
      "Northeast Connecticut   Hartford           34696\n",
      "          Delaware      Wilmington         30275\n",
      "          Maine         Portland           22410\n",
      "          Maryland      Baltimore          20818\n",
      "          Massachusetts Boston             32895\n",
      "          New Hampshire Manchester         40812\n",
      "          New Jersey    Newark             26540\n",
      "                                    Total_Products_Sold\n",
      "region    state      city                              \n",
      "Northeast New York   New York                    111954\n",
      "South     Texas      Houston                      90322\n",
      "West      California San Francisco                85478\n",
      "                     Los Angeles                  76384\n",
      "Southeast Florida    Miami                        73135\n"
     ]
    }
   ],
   "source": [
    "# Show the number products sold for region, state, and city (first 20 to avoid truncation).\n",
    "combined_and_grouped_df = combined_df.groupby(['region', 'state', 'city']).agg({'units_sold':'sum'})\n",
    "print(combined_and_grouped_df.head(20))\n",
    "\n",
    "# Rename the sum to \"Total_Products_Sold\".\n",
    "combined_and_grouped_df.rename(columns={\"units_sold\": \"Total_Products_Sold\"}, inplace=True)\n",
    "\n",
    "# Sort by Total_Products_Sold, descending    \n",
    "combined_and_grouped_df.sort_values(by='Total_Products_Sold', ascending=False, inplace=True)\n",
    "\n",
    "# Show the top 5 results.\n",
    "top_five_results = combined_and_grouped_df.head(5)\n",
    "print(top_five_results)  \n",
    " "
   ]
  },
  {
   "cell_type": "markdown",
   "metadata": {},
   "source": [
    "#### Using `pivot_table`"
   ]
  },
  {
   "cell_type": "code",
   "execution_count": 204,
   "metadata": {},
   "outputs": [
    {
     "name": "stdout",
     "output_type": "stream",
     "text": [
      "                                      units_sold\n",
      "region    state         city                    \n",
      "Midwest   Illinois      Chicago            25407\n",
      "          Indiana       Indianapolis       26332\n",
      "          Iowa          Des Moines         23446\n",
      "          Kansas        Wichita            29463\n",
      "          Michigan      Detroit            50095\n",
      "          Minnesota     Minneapolis        20415\n",
      "          Missouri      St. Louis          36404\n",
      "          Montana       Billings           42713\n",
      "          Nebraska      Omaha              19154\n",
      "          North Dakota  Fargo              22781\n",
      "          Ohio          Columbus           47781\n",
      "          South Dakota  Sioux Falls        22973\n",
      "          Wisconsin     Milwaukee          23950\n",
      "Northeast Connecticut   Hartford           34696\n",
      "          Delaware      Wilmington         30275\n",
      "          Maine         Portland           22410\n",
      "          Maryland      Baltimore          20818\n",
      "          Massachusetts Boston             32895\n",
      "          New Hampshire Manchester         40812\n",
      "          New Jersey    Newark             26540\n",
      "                                    Total_Products_Sold\n",
      "region    state      city                              \n",
      "Northeast New York   New York                    111954\n",
      "South     Texas      Houston                      90322\n",
      "West      California San Francisco                85478\n",
      "                     Los Angeles                  76384\n",
      "Southeast Florida    Miami                        73135\n"
     ]
    }
   ],
   "source": [
    "# Show the number products sold for region, state, and city. (first 20 to avoid truncation)\n",
    "pivot_table = pd.pivot_table(combined_df, index=[\"region\", \"state\", \"city\"],\n",
    "                                        values =\"units_sold\", aggfunc=\"sum\")\n",
    "print(pivot_table.head(20))\n",
    "# Rename the \"units_sold\" column to \"Total_Products_Sold\"\n",
    "pivot_table.rename(columns={'units_sold': 'Total_Products_Sold'}, inplace=True)\n",
    "\n",
    "\n",
    "# Show the top 5 results.\n",
    "pivot_table.sort_values(by='Total_Products_Sold', ascending=False, inplace=True)\n",
    "print(pivot_table.head(5))"
   ]
  },
  {
   "cell_type": "markdown",
   "metadata": {},
   "source": [
    "### 3. Determine which Region had the Most Sales"
   ]
  },
  {
   "cell_type": "markdown",
   "metadata": {},
   "source": [
    "#### Using `groupby`"
   ]
  },
  {
   "cell_type": "code",
   "execution_count": 206,
   "metadata": {},
   "outputs": [
    {
     "name": "stdout",
     "output_type": "stream",
     "text": [
      "                                      total_sales\n",
      "region    state         city                     \n",
      "Midwest   Illinois      Chicago           9797488\n",
      "          Indiana       Indianapolis      8836198\n",
      "          Iowa          Des Moines        7424011\n",
      "          Kansas        Wichita           9972864\n",
      "          Michigan      Detroit          18625433\n",
      "          Minnesota     Minneapolis       7227506\n",
      "          Missouri      St. Louis         9683265\n",
      "          Montana       Billings         15710886\n",
      "          Nebraska      Omaha             5929038\n",
      "          North Dakota  Fargo             7735580\n",
      "          Ohio          Columbus         18484583\n",
      "          South Dakota  Sioux Falls       8495576\n",
      "          Wisconsin     Milwaukee         7727469\n",
      "Northeast Connecticut   Hartford         11573448\n",
      "          Delaware      Wilmington       12298412\n",
      "          Maine         Portland          9195978\n",
      "          Maryland      Baltimore         7758059\n",
      "          Massachusetts Boston           11076810\n",
      "          New Hampshire Manchester       16411667\n",
      "          New Jersey    Newark            9934246\n",
      "                                        Total_Sales\n",
      "region    state          city                      \n",
      "Northeast New York       New York          39801235\n",
      "West      California     San Francisco     33973228\n",
      "Southeast Florida        Miami             31600863\n",
      "          South Carolina Charleston        29285637\n",
      "          Florida        Orlando           27682851\n"
     ]
    }
   ],
   "source": [
    "# Show the total sales for the products sold for each region, state, and city (first 20 to avoid truncation).\n",
    "total_sales_df = combined_df.groupby(['region', 'state', 'city']).agg({'total_sales':'sum'})\n",
    "print(total_sales_df.head(20))\n",
    "\n",
    "# Rename the \"total_sales\" column to \"Total Sales\"\n",
    "total_sales_df.rename(columns={\"total_sales\": \"Total_Sales\"}, inplace=True)\n",
    "\n",
    "# Sort by Total_Products_Sold, descending    \n",
    "total_sales_df.sort_values(by='Total_Sales', ascending=False, inplace=True)\n",
    "\n",
    "# Show the top 5 results.\n",
    "print(total_sales_df.head(5))"
   ]
  },
  {
   "cell_type": "markdown",
   "metadata": {},
   "source": [
    "#### Using `pivot_table`"
   ]
  },
  {
   "cell_type": "code",
   "execution_count": 203,
   "metadata": {},
   "outputs": [
    {
     "name": "stdout",
     "output_type": "stream",
     "text": [
      "                                      total_sales\n",
      "region    state         city                     \n",
      "Midwest   Illinois      Chicago           9797488\n",
      "          Indiana       Indianapolis      8836198\n",
      "          Iowa          Des Moines        7424011\n",
      "          Kansas        Wichita           9972864\n",
      "          Michigan      Detroit          18625433\n",
      "          Minnesota     Minneapolis       7227506\n",
      "          Missouri      St. Louis         9683265\n",
      "          Montana       Billings         15710886\n",
      "          Nebraska      Omaha             5929038\n",
      "          North Dakota  Fargo             7735580\n",
      "          Ohio          Columbus         18484583\n",
      "          South Dakota  Sioux Falls       8495576\n",
      "          Wisconsin     Milwaukee         7727469\n",
      "Northeast Connecticut   Hartford         11573448\n",
      "          Delaware      Wilmington       12298412\n",
      "          Maine         Portland          9195978\n",
      "          Maryland      Baltimore         7758059\n",
      "          Massachusetts Boston           11076810\n",
      "          New Hampshire Manchester       16411667\n",
      "          New Jersey    Newark            9934246\n",
      "                                        Total_Sales\n",
      "region    state          city                      \n",
      "Northeast New York       New York          39801235\n",
      "West      California     San Francisco     33973228\n",
      "Southeast Florida        Miami             31600863\n",
      "          South Carolina Charleston        29285637\n",
      "          Florida        Orlando           27682851\n"
     ]
    }
   ],
   "source": [
    "# Show the total sales for the products sold for each region, state, and city.\n",
    "# Optional: Rename the \"total_sales\" column to \"Total Sales\"\n",
    "pivot_table = pd.pivot_table(combined_df, index=[\"region\", \"state\", \"city\"], \n",
    "                             values =\"total_sales\", aggfunc=\"sum\")\n",
    "print(pivot_table.head(20))\n",
    "pivot_table.rename(columns={'total_sales': 'Total_Sales'}, inplace=True)\n",
    "\n",
    "# Show the top 5 results.\n",
    "pivot_table.sort_values(by='Total_Sales', ascending=False, inplace=True)\n",
    "print(pivot_table.head(5))"
   ]
  },
  {
   "cell_type": "markdown",
   "metadata": {
    "jp-MarkdownHeadingCollapsed": true,
    "tags": []
   },
   "source": [
    "### 4. Determine which Retailer had the Most Sales"
   ]
  },
  {
   "cell_type": "markdown",
   "metadata": {},
   "source": [
    "#### Using `groupby`"
   ]
  },
  {
   "cell_type": "code",
   "execution_count": 212,
   "metadata": {},
   "outputs": [
    {
     "name": "stdout",
     "output_type": "stream",
     "text": [
      "                                                  total_sales\n",
      "retailer    region    state          city                    \n",
      "Amazon      Midwest   Ohio           Columbus        16835873\n",
      "            Northeast Maine          Portland         8611395\n",
      "                      Massachusetts  Boston           4193590\n",
      "                      New Hampshire  Manchester      10077142\n",
      "                      Vermont        Burlington      13380463\n",
      "            South     Alabama        Birmingham        409091\n",
      "            Southeast Kentucky       Louisville       7092657\n",
      "                      North Carolina Charlotte        3733676\n",
      "            West      Alaska         Anchorage       13365025\n",
      "Foot Locker Midwest   Illinois       Chicago          9075036\n",
      "                      Iowa           Des Moines       4796935\n",
      "                      Kansas         Wichita          3520950\n",
      "                      Michigan       Detroit          2490330\n",
      "                      Minnesota      Minneapolis      6619565\n",
      "                      Missouri       St. Louis        7982132\n",
      "                      Nebraska       Omaha            5264829\n",
      "                      North Dakota   Fargo            2548462\n",
      "                      South Dakota   Sioux Falls      5689155\n",
      "            Northeast Connecticut    Hartford         3630798\n",
      "                      Delaware       Wilmington       8387568\n",
      "                                                    Total_Sales\n",
      "retailer    region    state          city                      \n",
      "West Gear   West      California     San Francisco     32794405\n",
      "Kohl's      West      California     Los Angeles       25127160\n",
      "Foot Locker Northeast New York       New York          25008568\n",
      "West Gear   West      Washington     Seattle           24862675\n",
      "Foot Locker Southeast South Carolina Charleston        24822280\n"
     ]
    }
   ],
   "source": [
    "# Show the total sales for the products sold for each retailer, region, state, and city.\n",
    "total_sales_df = combined_df.groupby(['retailer', 'region', 'state', 'city']).agg({'total_sales':'sum'})\n",
    "print(total_sales_df.head(20))\n",
    "\n",
    "# Rename the \"total_sales\" column to \"Total Sales\"\n",
    "total_sales_df.rename(columns={'total_sales': 'Total_Sales'}, inplace=True)\n",
    "\n",
    "# Sort by Total_Sales, descending    \n",
    "total_sales_df.sort_values(by='Total_Sales', ascending=False, inplace=True)\n",
    "\n",
    "# Show the top 5 results.\n",
    "print(total_sales_df.head(5))"
   ]
  },
  {
   "cell_type": "markdown",
   "metadata": {},
   "source": [
    "#### Using `pivot_table`"
   ]
  },
  {
   "cell_type": "code",
   "execution_count": 213,
   "metadata": {},
   "outputs": [
    {
     "name": "stdout",
     "output_type": "stream",
     "text": [
      "                                                  total_sales\n",
      "retailer    region    state          city                    \n",
      "Amazon      Midwest   Ohio           Columbus        16835873\n",
      "            Northeast Maine          Portland         8611395\n",
      "                      Massachusetts  Boston           4193590\n",
      "                      New Hampshire  Manchester      10077142\n",
      "                      Vermont        Burlington      13380463\n",
      "            South     Alabama        Birmingham        409091\n",
      "            Southeast Kentucky       Louisville       7092657\n",
      "                      North Carolina Charlotte        3733676\n",
      "            West      Alaska         Anchorage       13365025\n",
      "Foot Locker Midwest   Illinois       Chicago          9075036\n",
      "                      Iowa           Des Moines       4796935\n",
      "                      Kansas         Wichita          3520950\n",
      "                      Michigan       Detroit          2490330\n",
      "                      Minnesota      Minneapolis      6619565\n",
      "                      Missouri       St. Louis        7982132\n",
      "                      Nebraska       Omaha            5264829\n",
      "                      North Dakota   Fargo            2548462\n",
      "                      South Dakota   Sioux Falls      5689155\n",
      "            Northeast Connecticut    Hartford         3630798\n",
      "                      Delaware       Wilmington       8387568\n",
      "                                                    Total Sales\n",
      "retailer    region    state          city                      \n",
      "West Gear   West      California     San Francisco     32794405\n",
      "Kohl's      West      California     Los Angeles       25127160\n",
      "Foot Locker Northeast New York       New York          25008568\n",
      "West Gear   West      Washington     Seattle           24862675\n",
      "Foot Locker Southeast South Carolina Charleston        24822280\n"
     ]
    }
   ],
   "source": [
    "# Show the total sales for the products sold for each retailer, region, state, and city.\n",
    "# Optional: Rename the \"total_sales\" column to \"Total Sales\"\n",
    "pivot_table = pd.pivot_table(combined_df, index=[\"retailer\", \"region\", \"state\", \"city\"], \n",
    "                             values =\"total_sales\", aggfunc=\"sum\")\n",
    "print(pivot_table.head(20))\n",
    "pivot_table.rename(columns={'total_sales': 'Total Sales'}, inplace=True)\n",
    "\n",
    "# Show the top 5 results.\n",
    "pivot_table.sort_values(by='Total Sales', ascending=False, inplace=True)\n",
    "print(pivot_table.head(5))\n"
   ]
  },
  {
   "cell_type": "markdown",
   "metadata": {},
   "source": [
    "### 5. Determine which Retailer Sold the Most Women's Athletic Footwear"
   ]
  },
  {
   "cell_type": "code",
   "execution_count": 233,
   "metadata": {},
   "outputs": [],
   "source": [
    "# Filter the sales data to get the women's athletic footwear sales data.\n",
    "filtered_df = combined_df[combined_df['product'].str.contains('Women\\'s Athletic Footwear')]\n"
   ]
  },
  {
   "cell_type": "markdown",
   "metadata": {},
   "source": [
    "#### Using `groupby`"
   ]
  },
  {
   "cell_type": "code",
   "execution_count": 238,
   "metadata": {},
   "outputs": [
    {
     "name": "stdout",
     "output_type": "stream",
     "text": [
      "                                                  units_sold\n",
      "retailer    region    state          city                   \n",
      "Amazon      Midwest   Ohio           Columbus           5801\n",
      "            Northeast Maine          Portland           1841\n",
      "                      Massachusetts  Boston             1190\n",
      "                      New Hampshire  Manchester         3109\n",
      "                      Vermont        Burlington         4327\n",
      "            South     Alabama        Birmingham          158\n",
      "            Southeast Kentucky       Louisville         1889\n",
      "                      North Carolina Charlotte          1419\n",
      "            West      Alaska         Anchorage          2810\n",
      "Foot Locker Midwest   Illinois       Chicago            2064\n",
      "                      Iowa           Des Moines         1552\n",
      "                      Kansas         Wichita             909\n",
      "                      Michigan       Detroit            1040\n",
      "                      Minnesota      Minneapolis        1536\n",
      "                      Missouri       St. Louis          3504\n",
      "                      Nebraska       Omaha              1148\n",
      "                      North Dakota   Fargo               602\n",
      "                      South Dakota   Sioux Falls        1495\n",
      "            Northeast Connecticut    Hartford           1040\n",
      "                      Delaware       Wilmington         2417\n",
      "                                                      Womens_Footwear_Units_Sold\n",
      "retailer      region    state          city                                     \n",
      "West Gear     West      California     San Francisco                       12107\n",
      "Foot Locker   Northeast New York       New York                            10996\n",
      "Kohl's        West      California     Los Angeles                         10826\n",
      "Foot Locker   Southeast South Carolina Charleston                           8814\n",
      "Sports Direct South     Texas          Dallas                               8790\n"
     ]
    }
   ],
   "source": [
    "# Show the total number of women's athletic footwear sold for each retailer, region, state, and city.\n",
    "grouped_by_retailer_df = filtered_df.groupby(['retailer', 'region', 'state', 'city']).agg({'units_sold':'sum'})\n",
    "print(grouped_by_retailer_df.head(20))\n",
    "\n",
    "# Rename the \"units_sold\" column to \"Womens_Footwear_Units_Sold\"\n",
    "grouped_by_retailer_df.sort_values(by='units_sold', ascending=False, inplace=True)                                              \n",
    "grouped_by_retailer_df.rename(columns={'units_sold': 'Womens_Footwear_Units_Sold'}, inplace=True)\n",
    "\n",
    "# Show the top 5 results.\n",
    "print(grouped_by_retailer_df.head(5))"
   ]
  },
  {
   "cell_type": "markdown",
   "metadata": {},
   "source": [
    "#### Using `pivot_table`"
   ]
  },
  {
   "cell_type": "code",
   "execution_count": 20,
   "metadata": {},
   "outputs": [],
   "source": [
    "# Show the total number of women's athletic footwear sold for each retailer, region, state, and city.\n",
    "\n",
    "\n",
    "# Rename the \"units_sold\" column to \"Womens_Footwear_Units_Sold\"\n",
    "\n",
    "# Show the top 5 results.\n"
   ]
  },
  {
   "cell_type": "markdown",
   "metadata": {},
   "source": [
    "### 5. Determine the Day with the Most Women's Athletic Footwear Sales"
   ]
  },
  {
   "cell_type": "code",
   "execution_count": 21,
   "metadata": {},
   "outputs": [],
   "source": [
    "# Create a pivot table with the 'invoice_date' column is the index, and the \"total_sales\" as the values.\n",
    "\n",
    "\n",
    "# Optional: Rename the \"total_sales\" column to \"Total Sales\"\n",
    "\n",
    "\n",
    "# Show the table.\n"
   ]
  },
  {
   "cell_type": "code",
   "execution_count": 22,
   "metadata": {},
   "outputs": [],
   "source": [
    "# Resample the pivot table into daily bins, and get the total sales for each day.\n",
    "\n",
    "\n",
    "# Sort the resampled pivot table in ascending order on \"Total Sales\".\n"
   ]
  },
  {
   "cell_type": "markdown",
   "metadata": {},
   "source": [
    "### 6.  Determine the Week with the Most Women's Athletic Footwear Sales"
   ]
  },
  {
   "cell_type": "code",
   "execution_count": 23,
   "metadata": {},
   "outputs": [],
   "source": [
    "# Resample the pivot table into weekly bins, and get the total sales for each week.\n",
    "\n",
    "\n",
    "# Sort the resampled pivot table in ascending order on \"Total Sales\".\n"
   ]
  },
  {
   "cell_type": "code",
   "execution_count": null,
   "metadata": {},
   "outputs": [],
   "source": []
  }
 ],
 "metadata": {
  "kernelspec": {
   "display_name": "Python 3 (ipykernel)",
   "language": "python",
   "name": "python3"
  },
  "language_info": {
   "codemirror_mode": {
    "name": "ipython",
    "version": 3
   },
   "file_extension": ".py",
   "mimetype": "text/x-python",
   "name": "python",
   "nbconvert_exporter": "python",
   "pygments_lexer": "ipython3",
   "version": "3.10.13"
  }
 },
 "nbformat": 4,
 "nbformat_minor": 4
}
